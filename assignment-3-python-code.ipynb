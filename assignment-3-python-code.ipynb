{
 "cells": [
  {
   "cell_type": "markdown",
   "id": "bab7bd87",
   "metadata": {},
   "source": [
    "1. Write a Python program to print the following string in a specific format (see the\n",
    "output).\n",
    "Twinkle, twinkle, little star,\n",
    "How I wonder what you are!\n",
    "Up above the world so high,\n",
    "Like a diamond in the sky.\n",
    "Twinkle, twinkle, little star,\n",
    "How I wonder what you are"
   ]
  },
  {
   "cell_type": "code",
   "execution_count": 1,
   "id": "e0408b4a",
   "metadata": {},
   "outputs": [
    {
     "name": "stdout",
     "output_type": "stream",
     "text": [
      "Twinkle, twinkle, little star,\n",
      " \tHow I wonder what you are!\n",
      "\t\tUp above the world so high,\n",
      "\t\tLike a diamond in the sky.\n",
      "\t\t\r",
      "Twinkle, twinkle, little star,\n",
      "\tHow I wonder what you are\n"
     ]
    }
   ],
   "source": [
    "print(\"Twinkle, twinkle, little star,\\n \\tHow I wonder what you are!\\n\\t\\tUp above the world so high,\\n\\t\\tLike a diamond in the sky.\\n\\t\\t\\rTwinkle, twinkle, little star,\\n\\tHow I wonder what you are\")"
   ]
  },
  {
   "cell_type": "markdown",
   "id": "c3c75de5",
   "metadata": {},
   "source": [
    "2. Write a Python program to get the Python version you are using"
   ]
  },
  {
   "cell_type": "code",
   "execution_count": 2,
   "id": "0e58d773",
   "metadata": {},
   "outputs": [
    {
     "name": "stdout",
     "output_type": "stream",
     "text": [
      "3.8.5\n"
     ]
    }
   ],
   "source": [
    "from platform import python_version\n",
    "print(python_version())"
   ]
  },
  {
   "cell_type": "markdown",
   "id": "36296179",
   "metadata": {},
   "source": [
    "3. Write a Python program to display the current date and time."
   ]
  },
  {
   "cell_type": "code",
   "execution_count": 3,
   "id": "aaaf14f1",
   "metadata": {},
   "outputs": [
    {
     "name": "stdout",
     "output_type": "stream",
     "text": [
      "2021/10/23 - 19:23:09\n"
     ]
    }
   ],
   "source": [
    "from datetime import datetime\n",
    "current_date_time = datetime.now().strftime(\"%Y/%m/%d - %H:%M:%S\")\n",
    "print(current_date_time)"
   ]
  },
  {
   "cell_type": "markdown",
   "id": "e25939c4",
   "metadata": {},
   "source": [
    "4. Write a Python program which accepts the radius of a circle from the user and compute\n",
    "the area."
   ]
  },
  {
   "cell_type": "code",
   "execution_count": 4,
   "id": "e75b215b",
   "metadata": {},
   "outputs": [
    {
     "name": "stdout",
     "output_type": "stream",
     "text": [
      "Enter your radius: 34\n",
      "Area: 106.828\n"
     ]
    }
   ],
   "source": [
    "radius = int(input(\"Enter your radius: \"))\n",
    "area = 3.142*radius\n",
    "print(\"Area: {}\".format(area))"
   ]
  },
  {
   "cell_type": "markdown",
   "id": "ed936b15",
   "metadata": {},
   "source": [
    "5. Write a Python program which accepts the user's first and last name and print them in\n",
    "reverse order with a space between them."
   ]
  },
  {
   "cell_type": "code",
   "execution_count": 5,
   "id": "0f28d20e",
   "metadata": {},
   "outputs": [
    {
     "name": "stdout",
     "output_type": "stream",
     "text": [
      "Enter your first name:Shahzaib\n",
      "Enter your last name:Noor\n",
      "Shahzaib Noor\n",
      "\n",
      "Full Name: Shahzaib Noor\n",
      "\n",
      "Reversed fullname\n",
      "Noor Shahzaib\n"
     ]
    }
   ],
   "source": [
    "## initializing the string\n",
    "firstname = input(\"Enter your first name:\")\n",
    "lastname = input(\"Enter your last name:\")\n",
    "fullname = f\"{firstname} {lastname}\"\n",
    "print(fullname)\n",
    "## splitting the string on space\n",
    "split_fullname = fullname.split()\n",
    "# ## reversing the words using reversed() function\n",
    "reversed_fullname = list(reversed(split_fullname))\n",
    "# ## joining the words and printing\n",
    "print()\n",
    "print(\"Full Name: {0}\\n\".format(fullname))\n",
    "print(\"Reversed fullname\")\n",
    "print(\" \".join(reversed_fullname))"
   ]
  },
  {
   "cell_type": "markdown",
   "id": "b0ec65b6",
   "metadata": {},
   "source": [
    "6. Write a python program which takes two inputs from user and print them addition"
   ]
  },
  {
   "cell_type": "code",
   "execution_count": 8,
   "id": "befa6997",
   "metadata": {},
   "outputs": [
    {
     "name": "stdout",
     "output_type": "stream",
     "text": [
      "Enter first input:3\n",
      "Enter second input:3\n",
      "Addition :- 3 + 3 = 6\n"
     ]
    }
   ],
   "source": [
    "number1 = int(input(\"Enter first input:\"))\n",
    "number2 = int(input(\"Enter second input:\"))\n",
    "print(\"Addition :- {0} + {1} = {2}\".format(number1, number2, number1+number2))"
   ]
  },
  {
   "cell_type": "markdown",
   "id": "33402e1e",
   "metadata": {},
   "source": [
    "7. Write a program which takes 5 inputs from user for different subject’s marks, total it\n",
    "and generate mark sheet using grades ?"
   ]
  },
  {
   "cell_type": "code",
   "execution_count": 7,
   "id": "35e0ae88",
   "metadata": {},
   "outputs": [
    {
     "name": "stdout",
     "output_type": "stream",
     "text": [
      "Enter marks: 89\n",
      "Enter marks: 87\n",
      "Enter marks: 77\n",
      "Enter marks: 98\n",
      "Enter marks: 87\n",
      "Subject - Enlgish: 89\n",
      "Subject - Math: 87\n",
      "Subject - Islamiat: 77\n",
      "Subject - Physics: 98\n",
      "Subject - Chemistry: 87\n",
      "\n",
      "Total: 253\n",
      "Percentage: 84.33333333333334%\n",
      "Student grade: A+\n"
     ]
    }
   ],
   "source": [
    "import sys \n",
    "\n",
    "class PercentageLessThanZero(Exception):\n",
    "    \"\"\"Raised when percentage is less than zero\"\"\"\n",
    "    pass\n",
    "\n",
    "\n",
    "\n",
    "try:\n",
    "    english_marks = int(input(\"Enter marks: \"))\n",
    "    math_marks = int(input(\"Enter marks: \"))\n",
    "    Isl_marks = int(input(\"Enter marks: \"))\n",
    "    physics_marks = int(input(\"Enter marks: \"))\n",
    "    chemistry_marks = int(input(\"Enter marks: \"))\n",
    "    if (english_marks > 100 or math_marks > 100 or Isl_marks > 100 or physics_marks > 100 or chemistry_marks > 100):\n",
    "        print(\"Marks of any subject cannot be greater than 100!\")\n",
    "    else: \n",
    "        total_marks = english_marks + math_marks + Isl_marks\n",
    "\n",
    "        percentage = (total_marks / 300) * 100\n",
    "    #     percentage = -10;\n",
    "        print(f\"Subject - Enlgish: {str(english_marks)}\")\n",
    "        print(f\"Subject - Math: {str(math_marks)}\")\n",
    "        print(f\"Subject - Islamiat: {str(Isl_marks)}\")\n",
    "        print(f\"Subject - Physics: {str(physics_marks)}\")\n",
    "        print(f\"Subject - Chemistry: {str(chemistry_marks)}\\n\")\n",
    "\n",
    "        print(f\"Total: {str(total_marks)}\")\n",
    "        print(f\"Percentage: {str(percentage)}%\")\n",
    "    #     percentage = -10\n",
    "        if(percentage < 0):\n",
    "            print(f\"You did not enter appropriate percentage: {str(percentage)}\");\n",
    "            raise PercentageLessThanZero\n",
    "        if (percentage >= 80 and percentage <= 100):\n",
    "            print(\"Student grade: A+\")\n",
    "        elif (percentage >=70 and percentage < 80):\n",
    "            print(\"Student grade: A\")\n",
    "        elif (percentage >= 60 and percentage < 70):\n",
    "            print(\"Student grade: B\")\n",
    "        elif (percentage >= 50 and percentage < 60):\n",
    "            print(\"Student grade: C\")\n",
    "        elif (percentage >= 40 and percentage < 50):\n",
    "            print(\"Student grade; D\")\n",
    "        elif (percentage == 33 and percentage < 40):\n",
    "            print(\"Student grade; E\")\n",
    "        else :\n",
    "            print('Fail')\n",
    "\n",
    "except ValueError:\n",
    "   # handle ValueError exception\n",
    "   pass\n",
    "\n",
    "except (TypeError, ZeroDivisionError):\n",
    "   # handle multiple exceptions\n",
    "   # TypeError and ZeroDivisionError\n",
    "   pass\n",
    "    "
   ]
  },
  {
   "cell_type": "markdown",
   "id": "0870d1ac",
   "metadata": {},
   "source": [
    "8. Write a program which take input from user and identify that the given number is even\n",
    "or odd?"
   ]
  },
  {
   "cell_type": "code",
   "execution_count": 15,
   "id": "c0928138",
   "metadata": {},
   "outputs": [
    {
     "name": "stdout",
     "output_type": "stream",
     "text": [
      "Enter number:66\n",
      "Number is even\n"
     ]
    }
   ],
   "source": [
    "number = int(input(\"Enter number:\"))\n",
    "if (number % 2 == 0):\n",
    "    print(\"Number is even\")\n",
    "else:\n",
    "    print(\"Number is odd\")"
   ]
  },
  {
   "cell_type": "markdown",
   "id": "78de7b2a",
   "metadata": {},
   "source": [
    "9. Write a program which print the length of the list?\n"
   ]
  },
  {
   "cell_type": "code",
   "execution_count": 17,
   "id": "baac30e6",
   "metadata": {},
   "outputs": [
    {
     "name": "stdout",
     "output_type": "stream",
     "text": [
      "Length of list: 4\n"
     ]
    }
   ],
   "source": [
    "list = [1,2,3,4]\n",
    "print(\"Length of list: {}\".format(len(list)))"
   ]
  },
  {
   "cell_type": "markdown",
   "id": "b409b35e",
   "metadata": {},
   "source": [
    "10. Write a Python program to sum all the numeric items in a list?\n"
   ]
  },
  {
   "cell_type": "code",
   "execution_count": 19,
   "id": "99045fb5",
   "metadata": {},
   "outputs": [
    {
     "name": "stdout",
     "output_type": "stream",
     "text": [
      "Sum of all list elements: 300\n"
     ]
    }
   ],
   "source": [
    "numbers = [11,222,23,44]\n",
    "print(\"Sum of all list elements: {}\".format(sum(numbers)))"
   ]
  },
  {
   "cell_type": "markdown",
   "id": "c3e362a2",
   "metadata": {},
   "source": [
    "11. Write a Python program to get the largest number from a numeric list.\n"
   ]
  },
  {
   "cell_type": "code",
   "execution_count": 22,
   "id": "72819f9b",
   "metadata": {},
   "outputs": [
    {
     "name": "stdout",
     "output_type": "stream",
     "text": [
      "Max number in the list: 600\n"
     ]
    }
   ],
   "source": [
    "number_list = [600,222,23,44]\n",
    "print(\"Max number in the list: {}\".format(max(number_list)))"
   ]
  },
  {
   "cell_type": "markdown",
   "id": "f131c5db",
   "metadata": {},
   "source": [
    "12.Take a list, say for example this one:\n",
    "\n",
    "a = [1, 1, 2, 3, 5, 8, 13, 21, 34, 55, 89]\n",
    "\n",
    "Write a program that prints out all the elements of the list that are less than 5."
   ]
  },
  {
   "cell_type": "code",
   "execution_count": 24,
   "id": "35ce0b15",
   "metadata": {},
   "outputs": [
    {
     "name": "stdout",
     "output_type": "stream",
     "text": [
      "1\n",
      "1\n",
      "2\n",
      "3\n"
     ]
    }
   ],
   "source": [
    "a = [1, 1, 2, 3, 5, 8, 13, 21, 34, 55, 89]\n",
    "print(\"Numbers which are less than 5\")\n",
    "for num in a:\n",
    "    if(num < 5):\n",
    "        print(num)"
   ]
  },
  {
   "cell_type": "code",
   "execution_count": null,
   "id": "aaed79ea",
   "metadata": {},
   "outputs": [],
   "source": []
  }
 ],
 "metadata": {
  "kernelspec": {
   "display_name": "Python 3 (ipykernel)",
   "language": "python",
   "name": "python3"
  },
  "language_info": {
   "codemirror_mode": {
    "name": "ipython",
    "version": 3
   },
   "file_extension": ".py",
   "mimetype": "text/x-python",
   "name": "python",
   "nbconvert_exporter": "python",
   "pygments_lexer": "ipython3",
   "version": "3.8.5"
  }
 },
 "nbformat": 4,
 "nbformat_minor": 5
}
